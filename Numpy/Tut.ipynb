{
 "cells": [
  {
   "cell_type": "markdown",
   "metadata": {},
   "source": [
    "### Importing library"
   ]
  },
  {
   "cell_type": "code",
   "execution_count": null,
   "metadata": {},
   "outputs": [],
   "source": [
    "import numpy as np"
   ]
  },
  {
   "cell_type": "markdown",
   "metadata": {},
   "source": [
    "#### Creating a Numpy Array"
   ]
  },
  {
   "cell_type": "code",
   "execution_count": null,
   "metadata": {},
   "outputs": [],
   "source": [
    "list = [1,2,3,4]\n",
    "arr = np.array(list)\n",
    "print(arr)"
   ]
  },
  {
   "cell_type": "markdown",
   "metadata": {},
   "source": [
    "#### Numpy Array  Attributes\n",
    "1. np.shape: defines the shape of the array (example:3*3)\n",
    "2. np.ndim: defines the dimensions of the array (example: 2D)\n",
    "3. np.size: defines the size of the array (example: 9)\n",
    "4. ndarray.dtype: defines the data type of the elements in the array (example: 'int32') "
   ]
  },
  {
   "cell_type": "code",
   "execution_count": null,
   "metadata": {},
   "outputs": [],
   "source": [
    "list = np.array([[1,2,3],[4,5,6],[7,8,9]], dtype='int32')\n",
    "shape = np.shape(list)\n",
    "dimension = np.ndim(list)\n",
    "size = np.size(list)\n",
    "print(\"shape  = \", shape, \"dimension =\", dimension,\"size =\", size, list.dtype)"
   ]
  },
  {
   "cell_type": "markdown",
   "metadata": {},
   "source": [
    "#### 2D Array"
   ]
  },
  {
   "cell_type": "code",
   "execution_count": null,
   "metadata": {},
   "outputs": [],
   "source": [
    "arr1 = np.array([1,2,3],dtype='int64')\n",
    "arr2 = np.array([4,5,6],dtype='int64')\n",
    "arr3 = np.append(arr1,arr2).reshape(2,3)\n",
    "hstack = np.hstack(arr3)\n",
    "vstack = np.vstack(arr3)\n",
    "print(\"arr3= \",\"\\n\",arr3 ,\"\\n\",\"hstack=\",hstack,\"\\n\",\"vstack=\",\"\\n\",vstack,\"\\n\")"
   ]
  },
  {
   "cell_type": "markdown",
   "metadata": {},
   "source": [
    "#### 3D Array"
   ]
  },
  {
   "cell_type": "code",
   "execution_count": null,
   "metadata": {},
   "outputs": [],
   "source": [
    "ndarray = np.array([[1,2,3],\n",
    "                    [4,5,6],\n",
    "                    [7,8,9]])\n",
    "print(ndarray)"
   ]
  }
 ],
 "metadata": {
  "language_info": {
   "name": "python"
  }
 },
 "nbformat": 4,
 "nbformat_minor": 2
}

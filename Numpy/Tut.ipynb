{
 "cells": [
  {
   "cell_type": "markdown",
   "metadata": {},
   "source": [
    "### Importing library"
   ]
  },
  {
   "cell_type": "code",
   "execution_count": 1,
   "metadata": {},
   "outputs": [],
   "source": [
    "import numpy as np"
   ]
  },
  {
   "cell_type": "markdown",
   "metadata": {},
   "source": [
    "#### Creating a Numpy Array"
   ]
  },
  {
   "cell_type": "code",
   "execution_count": 2,
   "metadata": {},
   "outputs": [
    {
     "name": "stdout",
     "output_type": "stream",
     "text": [
      "[1 2 3 4]\n"
     ]
    }
   ],
   "source": [
    "list = [1,2,3,4]\n",
    "arr = np.array(list)\n",
    "print(arr)"
   ]
  },
  {
   "cell_type": "markdown",
   "metadata": {},
   "source": [
    "#### Numpy Array  Attributes\n",
    "1. np.shape: defines the shape of the array (example:3*3)\n",
    "2. np.ndim: defines the dimensions of the array (example: 2D)\n",
    "3. np.size: defines the size of the array (example: 9)\n",
    "4. ndarray.dtype: defines the data type of the elements in the array (example: 'int32') "
   ]
  },
  {
   "cell_type": "code",
   "execution_count": 3,
   "metadata": {},
   "outputs": [
    {
     "name": "stdout",
     "output_type": "stream",
     "text": [
      "shape  =  (3, 3) dimension = 2 size = 9 int32\n"
     ]
    }
   ],
   "source": [
    "list = np.array([[1,2,3],[4,5,6],[7,8,9]], dtype='int32')\n",
    "shape = np.shape(list)\n",
    "dimension = np.ndim(list)\n",
    "size = np.size(list)\n",
    "print(\"shape  = \", shape, \"dimension =\", dimension,\"size =\", size, list.dtype)"
   ]
  },
  {
   "cell_type": "markdown",
   "metadata": {},
   "source": [
    "#### 2 Dimensions Array"
   ]
  },
  {
   "cell_type": "code",
   "execution_count": 4,
   "metadata": {},
   "outputs": [
    {
     "name": "stdout",
     "output_type": "stream",
     "text": [
      "arr3=  \n",
      " [[1 2 3]\n",
      " [4 5 6]] \n",
      " hstack= [1 2 3 4 5 6] \n",
      " vstack= \n",
      " [[1 2 3]\n",
      " [4 5 6]] \n",
      "\n"
     ]
    }
   ],
   "source": [
    "arr1 = np.array([1,2,3],dtype='int64')\n",
    "arr2 = np.array([4,5,6],dtype='int64')\n",
    "arr3 = np.append(arr1,arr2).reshape(2,3)\n",
    "hstack = np.hstack(arr3)\n",
    "vstack = np.vstack(arr3)\n",
    "print(\"arr3= \",\"\\n\",arr3 ,\"\\n\",\"hstack=\",hstack,\"\\n\",\"vstack=\",\"\\n\",vstack,\"\\n\")"
   ]
  },
  {
   "cell_type": "markdown",
   "metadata": {},
   "source": [
    "#### 3 Dimensions Array"
   ]
  },
  {
   "cell_type": "code",
   "execution_count": 5,
   "metadata": {},
   "outputs": [
    {
     "name": "stdout",
     "output_type": "stream",
     "text": [
      "[[1 2 3]\n",
      " [4 5 6]\n",
      " [7 8 9]]\n"
     ]
    }
   ],
   "source": [
    "ndarray = np.array([[1,2,3],\n",
    "                    [4,5,6],\n",
    "                    [7,8,9]])\n",
    "print(ndarray)"
   ]
  }
 ],
 "metadata": {
  "kernelspec": {
   "display_name": "Python 3",
   "language": "python",
   "name": "python3"
  },
  "language_info": {
   "codemirror_mode": {
    "name": "ipython",
    "version": 3
   },
   "file_extension": ".py",
   "mimetype": "text/x-python",
   "name": "python",
   "nbconvert_exporter": "python",
   "pygments_lexer": "ipython3",
   "version": "3.12.0"
  }
 },
 "nbformat": 4,
 "nbformat_minor": 2
}

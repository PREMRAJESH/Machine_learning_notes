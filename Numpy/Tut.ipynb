{
 "cells": [
  {
   "cell_type": "markdown",
   "metadata": {},
   "source": [
    "### Importing library"
   ]
  },
  {
   "cell_type": "code",
   "execution_count": 2,
   "metadata": {},
   "outputs": [],
   "source": [
    "import numpy as np"
   ]
  },
  {
   "cell_type": "markdown",
   "metadata": {},
   "source": [
    "#### Creating a Numpy Array\n",
    "```np.array()```function is used to convert,create a python list into a array."
   ]
  },
  {
   "cell_type": "code",
   "execution_count": 2,
   "metadata": {},
   "outputs": [
    {
     "name": "stdout",
     "output_type": "stream",
     "text": [
      "[1 2 3 4]\n"
     ]
    }
   ],
   "source": [
    "list = [1,2,3,4]\n",
    "arr = np.array(list)\n",
    "print(arr)"
   ]
  },
  {
   "cell_type": "markdown",
   "metadata": {},
   "source": [
    "#### Numpy Array  Attributes\n",
    "1. np.shape: defines the shape of the array (example:3*3)\n",
    "2. np.ndim: defines the dimensions of the array (example: 2D)\n",
    "3. np.size: defines the size of the array (example: 9)\n",
    "4. ndarray.dtype: defines the data type of the elements in the array (example: 'int32') "
   ]
  },
  {
   "cell_type": "code",
   "execution_count": 3,
   "metadata": {},
   "outputs": [
    {
     "name": "stdout",
     "output_type": "stream",
     "text": [
      "shape  =  (3, 3) dimension = 2 size = 9 int32\n"
     ]
    }
   ],
   "source": [
    "list = np.array([[1,2,3],[4,5,6],[7,8,9]], dtype='int32')\n",
    "shape = np.shape(list)\n",
    "dimension = np.ndim(list)\n",
    "size = np.size(list)\n",
    "print(\"shape  = \", shape, \"dimension =\", dimension,\"size =\", size, list.dtype)"
   ]
  },
  {
   "cell_type": "markdown",
   "metadata": {},
   "source": [
    "#### 2 Dimensions Array\n",
    "here ```ndarray.reshape()``` function is used it defines the dimension of the array. a two dimension array can be created using ```np.vstack()``` function it simply stack two array _Vertically_ , similarly if you want to stack or append a array in one dimension ```np.hstack()```function is used to stack two array _Horizontally_"
   ]
  },
  {
   "cell_type": "code",
   "execution_count": 3,
   "metadata": {},
   "outputs": [
    {
     "name": "stdout",
     "output_type": "stream",
     "text": [
      "arr3=  \n",
      " [[1 2 3]\n",
      " [4 5 6]] \n",
      " hstack= [1 2 3 4 5 6] \n",
      " vstack= \n",
      " [[1 2 3]\n",
      " [4 5 6]] \n",
      "\n"
     ]
    }
   ],
   "source": [
    "arr1 = np.array([1,2,3],dtype='int64')\n",
    "arr2 = np.array([4,5,6],dtype='int64')\n",
    "arr3 = np.append(arr1,arr2).reshape(2,3)\n",
    "# 2 Dimension array by using vstack function\n",
    "hstack = np.hstack(arr3)  #horizontal stack\n",
    "vstack = np.vstack(arr3)  #vertical stack\n",
    "print(\"arr3= \",\"\\n\",arr3 ,\"\\n\",\"hstack=\",hstack,\"\\n\",\"vstack=\",\"\\n\",vstack,\"\\n\")"
   ]
  },
  {
   "cell_type": "markdown",
   "metadata": {},
   "source": [
    "#### 3 Dimensions Array"
   ]
  },
  {
   "cell_type": "code",
   "execution_count": 5,
   "metadata": {},
   "outputs": [
    {
     "name": "stdout",
     "output_type": "stream",
     "text": [
      "[[1 2 3]\n",
      " [4 5 6]\n",
      " [7 8 9]]\n"
     ]
    }
   ],
   "source": [
    "ndarray = np.array([[1,2,3],\n",
    "                    [4,5,6],\n",
    "                    [7,8,9]])\n",
    "print(ndarray)"
   ]
  },
  {
   "cell_type": "markdown",
   "metadata": {},
   "source": [
    "#### Spliting An Numpy Array \n",
    "here in this example below ```np.arange()``` function is used to generate a range of number between two defined numbers \n",
    "to split the numpy array ```np.array_split()``` function is used it is used for uneven spliting of array.\n",
    "<br>for even splits ```np.split()```function is used. it takes 3 parameters:<br> - ndarray : array to be divided.\n",
    "<br>- indices or section : it represents the index from array is going to split. <br>- axis : it represents the axis of split it is optional parameter."
   ]
  },
  {
   "cell_type": "code",
   "execution_count": 5,
   "metadata": {},
   "outputs": [
    {
     "name": "stdout",
     "output_type": "stream",
     "text": [
      "[array([0, 1]), array([2, 3, 4, 5]), array([ 6,  7,  8,  9, 10, 11, 12, 13, 14])]\n"
     ]
    }
   ],
   "source": [
    "array = np.arange(0,15)\n",
    "arr1 = np.array_split(array,[2,6])\n",
    "print(arr1)"
   ]
  },
  {
   "cell_type": "markdown",
   "metadata": {},
   "source": [
    "#### Slicing and indexing\n",
    "- Slicing creates a view for numpy array instead of copy it takes 3 parameter ```start:stop:step```\n",
    "-  Index is 0-based, and accepts negative indices for indexing from the end of the array."
   ]
  },
  {
   "cell_type": "code",
   "execution_count": 18,
   "metadata": {},
   "outputs": [
    {
     "name": "stdout",
     "output_type": "stream",
     "text": [
      "[2 4 6 8]\n",
      "5\n"
     ]
    }
   ],
   "source": [
    "a = np.array([1,2,3,4,5,6,7,8,9])\n",
    "print(a[1:9:2])\n",
    "print(a[4])"
   ]
  }
 ],
 "metadata": {
  "kernelspec": {
   "display_name": "Python 3",
   "language": "python",
   "name": "python3"
  },
  "language_info": {
   "codemirror_mode": {
    "name": "ipython",
    "version": 3
   },
   "file_extension": ".py",
   "mimetype": "text/x-python",
   "name": "python",
   "nbconvert_exporter": "python",
   "pygments_lexer": "ipython3",
   "version": "3.12.0"
  }
 },
 "nbformat": 4,
 "nbformat_minor": 2
}

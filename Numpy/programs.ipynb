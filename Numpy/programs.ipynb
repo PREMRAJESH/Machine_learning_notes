{
 "cells": [
  {
   "cell_type": "markdown",
   "metadata": {},
   "source": [
    "1. Create a 3d array with two 2d array"
   ]
  },
  {
   "cell_type": "code",
   "execution_count": 27,
   "metadata": {},
   "outputs": [
    {
     "name": "stdout",
     "output_type": "stream",
     "text": [
      "[ 6  8 10]\n"
     ]
    }
   ],
   "source": [
    "import numpy as np\n",
    "arr = np.array([[[0,2,4],[6,8,10]],[[1,3,5],[7,9,0]]])\n",
    "print(arr[0,1])"
   ]
  },
  {
   "cell_type": "markdown",
   "metadata": {},
   "source": [
    "2. Stack two 3d array"
   ]
  },
  {
   "cell_type": "code",
   "execution_count": 32,
   "metadata": {},
   "outputs": [
    {
     "name": "stdout",
     "output_type": "stream",
     "text": [
      "Array is 4 dimensional\n",
      "[[[[ 0  2  4]\n",
      "   [ 6  8 10]]\n",
      "\n",
      "  [[ 1  3  5]\n",
      "   [ 7  9  0]]]\n",
      "\n",
      "\n",
      " [[[ 1  2  3]\n",
      "   [ 4  5  6]]\n",
      "\n",
      "  [[ 7  8  9]\n",
      "   [10 11 12]]]]\n",
      "12\n"
     ]
    }
   ],
   "source": [
    "import numpy as np\n",
    "a = np.array([[[1,2,3],[4,5,6]],[[7,8,9],[10,11,12]]])\n",
    "b = np.stack((arr,a),axis=0)\n",
    "print(\"Array is\",b.ndim,\"dimensional\")\n",
    "print(b)"
   ]
  },
  {
   "cell_type": "markdown",
   "metadata": {},
   "source": [
    "3. sum of array along side of axis"
   ]
  },
  {
   "cell_type": "code",
   "execution_count": 57,
   "metadata": {},
   "outputs": [
    {
     "name": "stdout",
     "output_type": "stream",
     "text": [
      "[[1 2 3]] [[4 5 6]] [[7 8 9]]\n",
      "[12 15 18] [ 6 15 24]\n"
     ]
    }
   ],
   "source": [
    "import numpy as np\n",
    "\n",
    "array_2d = np.array([[1, 2, 3],\n",
    "                    [4, 5, 6],\n",
    "                    [7, 8, 9]])\n",
    "\n",
    "# Sum along axis 0 (column-wise)\n",
    "sum_axis_0 = np.sum(array_2d, axis=0)\n",
    "\n",
    "# Sum along axis 1 (row-wise)\n",
    "sum_axis_1 = np.sum(array_2d, axis=1)\n",
    "print(sum_axis_0,sum_axis_1)"
   ]
  },
  {
   "cell_type": "code",
   "execution_count": 58,
   "metadata": {},
   "outputs": [
    {
     "name": "stdout",
     "output_type": "stream",
     "text": [
      "Variance: 2.0\n",
      "Standard Deviation: 1.4142135623730951\n"
     ]
    }
   ],
   "source": [
    "import numpy as np\n",
    "\n",
    "data = np.array([1, 2, 3, 4, 5])\n",
    "\n",
    "# Variance\n",
    "variance = np.var(data)\n",
    "\n",
    "# Standard Deviation\n",
    "std_dev = np.std(data)\n",
    "\n",
    "print(\"Variance:\", variance)\n",
    "print(\"Standard Deviation:\", std_dev)\n"
   ]
  }
 ],
 "metadata": {
  "kernelspec": {
   "display_name": "Python 3",
   "language": "python",
   "name": "python3"
  },
  "language_info": {
   "codemirror_mode": {
    "name": "ipython",
    "version": 3
   },
   "file_extension": ".py",
   "mimetype": "text/x-python",
   "name": "python",
   "nbconvert_exporter": "python",
   "pygments_lexer": "ipython3",
   "version": "3.12.0"
  }
 },
 "nbformat": 4,
 "nbformat_minor": 2
}
